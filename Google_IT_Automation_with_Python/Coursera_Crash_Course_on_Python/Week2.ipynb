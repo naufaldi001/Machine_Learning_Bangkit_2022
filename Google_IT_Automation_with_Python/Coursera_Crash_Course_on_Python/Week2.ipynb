{
  "nbformat": 4,
  "nbformat_minor": 0,
  "metadata": {
    "colab": {
      "name": "Untitled10.ipynb",
      "provenance": [],
      "collapsed_sections": []
    },
    "kernelspec": {
      "name": "python3",
      "display_name": "Python 3"
    },
    "language_info": {
      "name": "python"
    }
  },
  "cells": [
    {
      "cell_type": "markdown",
      "source": [
        "# Practice Quiz: Expressions and Variables"
      ],
      "metadata": {
        "id": "SoUNXjfkp3mR"
      }
    },
    {
      "cell_type": "markdown",
      "source": [
        "1. In this scenario, two friends are eating dinner at a restaurant. The bill comes in the amount of 47.28 dollars. The friends decide to split the bill evenly between them, after adding 15% tip for the service. Calculate the tip, the total amount to pay, and each friend's share, then output a message saying \"Each person needs to pay: \" followed by the resulting number."
      ],
      "metadata": {
        "id": "UIx_Lp8up9Ig"
      }
    },
    {
      "cell_type": "code",
      "source": [
        "bill = 47.28\n",
        "tip = bill * 15 / 100\n",
        "total = bill + tip\n",
        "share = total / 2 \n",
        "print(\"Each person needs to pay:\", str(share))"
      ],
      "metadata": {
        "colab": {
          "base_uri": "https://localhost:8080/"
        },
        "id": "Eq1XtOsaqNDp",
        "outputId": "325d4758-1588-427c-c3fd-c0e53a1731b9"
      },
      "execution_count": 1,
      "outputs": [
        {
          "output_type": "stream",
          "name": "stdout",
          "text": [
            "Each person needs to pay: 27.186\n"
          ]
        }
      ]
    },
    {
      "cell_type": "markdown",
      "source": [
        "2.\n",
        "This code is supposed to take two numbers, divide one by another so that the result is equal to 1, and display the result on the screen. Unfortunately, there is an error in the code. Find the error and fix it, so that the output is correct."
      ],
      "metadata": {
        "id": "icHAwPG4qNvo"
      }
    },
    {
      "cell_type": "code",
      "source": [
        "numerator = 10\n",
        "denominator = 10\n",
        "result = numerator // denominator\n",
        "print(result)"
      ],
      "metadata": {
        "colab": {
          "base_uri": "https://localhost:8080/"
        },
        "id": "FoovSVTHqPLg",
        "outputId": "75ed0679-6082-4a3b-c5b8-ea4096545b98"
      },
      "execution_count": 2,
      "outputs": [
        {
          "output_type": "stream",
          "name": "stdout",
          "text": [
            "1\n"
          ]
        }
      ]
    },
    {
      "cell_type": "markdown",
      "source": [
        "3.\n",
        "Combine the variables to display the sentence \"How do you like Python so far?\" "
      ],
      "metadata": {
        "id": "shmk6IQ2qQQy"
      }
    },
    {
      "cell_type": "code",
      "source": [
        "word1 = \"How\"\n",
        "word2 = \"do\"\n",
        "word3 = \"you\"\n",
        "word4 = \"like\"\n",
        "word5 = \"Python\"\n",
        "word6 = \"so\"\n",
        "word7 = \"far?\"\n",
        "\n",
        "print(word1 + \" \" + word2 + \" \"  +  word3 + \" \" + word4 + \" \" + word5 + \" \" +  word6 + \" \" + word7)"
      ],
      "metadata": {
        "colab": {
          "base_uri": "https://localhost:8080/"
        },
        "id": "ZnVAlLIkqRdG",
        "outputId": "afa6ab7d-6074-4135-b06e-7a36a3df986e"
      },
      "execution_count": 3,
      "outputs": [
        {
          "output_type": "stream",
          "name": "stdout",
          "text": [
            "How do you like Python so far?\n"
          ]
        }
      ]
    },
    {
      "cell_type": "markdown",
      "source": [
        "4.\n",
        "This code is supposed to display \"2 + 2 = 4\" on the screen, but there is an error. Find the error in the code and fix it, so that the output is correct."
      ],
      "metadata": {
        "id": "HwgUhBPFqTmX"
      }
    },
    {
      "cell_type": "code",
      "source": [
        "print(\"2 + 2 = \" + str(2 + 2))"
      ],
      "metadata": {
        "colab": {
          "base_uri": "https://localhost:8080/"
        },
        "id": "dkzW4wMEqT44",
        "outputId": "ef5884b1-e696-4634-ab0b-e54a17bddea2"
      },
      "execution_count": 4,
      "outputs": [
        {
          "output_type": "stream",
          "name": "stdout",
          "text": [
            "2 + 2 = 4\n"
          ]
        }
      ]
    },
    {
      "cell_type": "markdown",
      "source": [
        "# Practice Quiz: Functions"
      ],
      "metadata": {
        "id": "oJp8cAtqqVKs"
      }
    },
    {
      "cell_type": "markdown",
      "source": [
        "1.\n",
        "-This function converts miles to kilometers (km).\n",
        "\n",
        "-Complete the function to return the result of the conversion\n",
        "\n",
        "-Call the function to convert the trip distance from miles to kilometers\n",
        "\n",
        "-Fill in the blank to print the result of the conversion\n",
        "\n",
        "-Calculate the round-trip in kilometers by doubling the result, and fill in the blank to print the result"
      ],
      "metadata": {
        "id": "mU2A--vJqdqw"
      }
    },
    {
      "cell_type": "code",
      "source": [
        "# 1) Complete the function to return the result of the conversion\n",
        "def convert_distance(miles):\n",
        "\treturn miles * 1.6  # approximately 1.6 km in 1 mile\n",
        "\n",
        "my_trip_miles = 55\n",
        "\n",
        "# 2) Convert my_trip_miles to kilometers by calling the function above\n",
        "my_trip_km = convert_distance(my_trip_miles)\n",
        "\n",
        "# 3) Fill in the blank to print the result of the conversion\n",
        "print(\"The distance in kilometers is \" + str(my_trip_km))\n",
        "\n",
        "# 4) Calculate the round-trip in kilometers by doubling the result,\n",
        "#    and fill in the blank to print the result\n",
        "print(\"The round-trip in kilometers is \" + str(my_trip_km * 2))"
      ],
      "metadata": {
        "colab": {
          "base_uri": "https://localhost:8080/"
        },
        "id": "lgjyXgkmqpBH",
        "outputId": "309fbdad-5645-42b8-9537-bfdec172831f"
      },
      "execution_count": 5,
      "outputs": [
        {
          "output_type": "stream",
          "name": "stdout",
          "text": [
            "The distance in kilometers is 88.0\n",
            "The round-trip in kilometers is 176.0\n"
          ]
        }
      ]
    },
    {
      "cell_type": "markdown",
      "source": [
        "2.\n",
        "This function compares two numbers and returns them in increasing order.\n",
        "\n",
        "Fill in the blanks, so the print statement displays the result of the function call in order.\n",
        "\n",
        "Hint: if a function returns multiple values, don't forget to store these values in multiple variables"
      ],
      "metadata": {
        "id": "2elqTGKCqqJH"
      }
    },
    {
      "cell_type": "code",
      "source": [
        "# This function compares two numbers and returns them\n",
        "# in increasing order.\n",
        "def order_numbers(number1, number2):\n",
        "\tif number2 > number1:\n",
        "\t\treturn number1, number2\n",
        "\telse:\n",
        "\t\treturn number2, number1\n",
        "\n",
        "# 1) Fill in the blanks so the print statement displays the result\n",
        "#    of the function call\n",
        "smaller, bigger = order_numbers(100, 99)\n",
        "print(smaller, bigger)"
      ],
      "metadata": {
        "colab": {
          "base_uri": "https://localhost:8080/"
        },
        "id": "q0JmopUtqt1n",
        "outputId": "82005625-4176-4c8f-ff70-2487716e4f5e"
      },
      "execution_count": 6,
      "outputs": [
        {
          "output_type": "stream",
          "name": "stdout",
          "text": [
            "99 100\n"
          ]
        }
      ]
    },
    {
      "cell_type": "markdown",
      "source": [
        "4.\n",
        "Let's revisit our lucky_number function. We want to change it, so that instead of printing the message, it returns the message. This way, the calling line can print the message, or do something else with it if needed. Fill in the blanks to complete the code to make it work."
      ],
      "metadata": {
        "id": "7bYLfln8qygX"
      }
    },
    {
      "cell_type": "code",
      "source": [
        "def lucky_number(name):\n",
        "  number = len(name) * 9\n",
        "  greet = \"Hello \" + name + \". Your lucky number is \" + str(number)\n",
        "  return greet\n",
        "\t    \n",
        "print(lucky_number(\"Kay\"))\n",
        "print(lucky_number(\"Cameron\"))"
      ],
      "metadata": {
        "colab": {
          "base_uri": "https://localhost:8080/"
        },
        "id": "0N8mwTSEqzzB",
        "outputId": "35632b46-767d-45f7-f6d5-3370368fec24"
      },
      "execution_count": 7,
      "outputs": [
        {
          "output_type": "stream",
          "name": "stdout",
          "text": [
            "Hello Kay. Your lucky number is 27\n",
            "Hello Cameron. Your lucky number is 63\n"
          ]
        }
      ]
    },
    {
      "cell_type": "markdown",
      "source": [
        "# Practice Quiz: Conditionals"
      ],
      "metadata": {
        "id": "ud40XcU-q4mY"
      }
    },
    {
      "cell_type": "markdown",
      "source": [
        "2.Complete the script by filling in the missing parts. The function receives a name, then returns a greeting based on whether or not that name is \"Taylor\""
      ],
      "metadata": {
        "id": "toO_Wj8JrCwo"
      }
    },
    {
      "cell_type": "code",
      "source": [
        "def greeting(name):\n",
        "  if name == \"Taylor\":\n",
        "    return \"Welcome back Taylor!\"\n",
        "  else:\n",
        "    return \"Hello there, \" + name\n",
        "\n",
        "print(greeting(\"Taylor\"))\n",
        "print(greeting(\"John\"))"
      ],
      "metadata": {
        "colab": {
          "base_uri": "https://localhost:8080/"
        },
        "id": "3sRqyIgLq_Zm",
        "outputId": "608826b7-52ab-4833-9d59-534ebdb6a672"
      },
      "execution_count": 8,
      "outputs": [
        {
          "output_type": "stream",
          "name": "stdout",
          "text": [
            "Welcome back Taylor!\n",
            "Hello there, John\n"
          ]
        }
      ]
    },
    {
      "cell_type": "markdown",
      "source": [
        "5.\n",
        "If a filesystem has a block size of 4096 bytes, this means that a file comprised of only one byte will still use 4096 bytes of storage. A file made up of 4097 bytes will use 4096*2=8192 bytes of storage. Knowing this, can you fill in the gaps in the calculate_storage function below, which calculates the total number of bytes needed to store a file of a given size?"
      ],
      "metadata": {
        "id": "wfvnkAYyrMAy"
      }
    },
    {
      "cell_type": "code",
      "source": [
        "def calculate_storage(filesize):\n",
        "    block_size = 4096\n",
        "    # Use floor division to calculate how many blocks are fully occupied\n",
        "    full_blocks = filesize // block_size\n",
        "    # Use the modulo operator to check whether there's any remainder\n",
        "    partial_block_remainder = filesize % block_size\n",
        "    # Depending on whether there's a remainder or not, return\n",
        "    # the total number of bytes required to allocate enough blocks\n",
        "    # to store your data.\n",
        "    if partial_block_remainder > 0:\n",
        "        return 4096 * (full_blocks + 1)\n",
        "    return 4096\n",
        "\n",
        "print(calculate_storage(1))    # Should be 4096\n",
        "print(calculate_storage(4096)) # Should be 4096\n",
        "print(calculate_storage(4097)) # Should be 8192\n",
        "print(calculate_storage(6000)) # Should be 8192"
      ],
      "metadata": {
        "colab": {
          "base_uri": "https://localhost:8080/"
        },
        "id": "k4ibCXefrNAQ",
        "outputId": "3edc095e-55ec-4acc-9e49-08344bbf21b4"
      },
      "execution_count": 9,
      "outputs": [
        {
          "output_type": "stream",
          "name": "stdout",
          "text": [
            "4096\n",
            "4096\n",
            "8192\n",
            "8192\n"
          ]
        }
      ]
    },
    {
      "cell_type": "markdown",
      "source": [
        "# Module 2 Graded Assessment"
      ],
      "metadata": {
        "id": "1Ki-5hTArQQQ"
      }
    },
    {
      "cell_type": "markdown",
      "source": [
        "1.\n",
        "Complete the function by filling in the missing parts. The color_translator function receives the name of a color, then prints its hexadecimal value. Currently, it only supports the three additive primary colors (red, green, blue), so it returns \"unknown\" for all other colors."
      ],
      "metadata": {
        "id": "pcr1HGkTrRk-"
      }
    },
    {
      "cell_type": "code",
      "source": [
        "def color_translator(color):\n",
        "\tif color == \"red\":\n",
        "\t\thex_color = \"#ff0000\"\n",
        "\telif color == \"green\":\n",
        "\t\thex_color = \"#00ff00\"\n",
        "\telif color == \"blue\":\n",
        "\t\thex_color = \"#0000ff\"\n",
        "\telse:\n",
        "\t\thex_color = \"unknown\"\n",
        "\treturn hex_color\n",
        "\n",
        "print(color_translator(\"blue\")) # Should be #0000ff\n",
        "print(color_translator(\"yellow\")) # Should be unknown\n",
        "print(color_translator(\"red\")) # Should be #ff0000\n",
        "print(color_translator(\"black\")) # Should be unknown\n",
        "print(color_translator(\"green\")) # Should be #00ff00\n",
        "print(color_translator(\"\")) # Should be unknown"
      ],
      "metadata": {
        "colab": {
          "base_uri": "https://localhost:8080/"
        },
        "id": "4xcBgpQLrUTl",
        "outputId": "29ada9e4-3370-4fb8-bf6f-cd9709b06f54"
      },
      "execution_count": 10,
      "outputs": [
        {
          "output_type": "stream",
          "name": "stdout",
          "text": [
            "#0000ff\n",
            "unknown\n",
            "#ff0000\n",
            "unknown\n",
            "#00ff00\n",
            "unknown\n"
          ]
        }
      ]
    },
    {
      "cell_type": "markdown",
      "source": [
        "4.\n",
        "Students in a class receive their grades as Pass/Fail. Scores of 60 or more (out of 100) mean that the grade is \"Pass\". For lower scores, the grade is \"Fail\". In addition, scores above 95 (not included) are graded as \"Top Score\". Fill in this function so that it returns the proper grade."
      ],
      "metadata": {
        "id": "-WURVqpIrVVf"
      }
    },
    {
      "cell_type": "code",
      "source": [
        "def exam_grade(score):\n",
        "\tif score > 95:\n",
        "\t\tgrade = \"Top Score\"\n",
        "\telif score >= 60:\n",
        "\t\tgrade = \"Pass\"\n",
        "\telse:\n",
        "\t\tgrade = \"Fail\"\n",
        "\treturn grade\n",
        "\n",
        "print(exam_grade(65)) # Should be Pass\n",
        "print(exam_grade(55)) # Should be Fail\n",
        "print(exam_grade(60)) # Should be Pass\n",
        "print(exam_grade(95)) # Should be Pass\n",
        "print(exam_grade(100)) # Should be Top Score\n",
        "print(exam_grade(0)) # Should be Fail"
      ],
      "metadata": {
        "colab": {
          "base_uri": "https://localhost:8080/"
        },
        "id": "r_jg5ttbrX5O",
        "outputId": "4a789667-f3d2-408a-c118-1ed8a6fa0022"
      },
      "execution_count": 11,
      "outputs": [
        {
          "output_type": "stream",
          "name": "stdout",
          "text": [
            "Pass\n",
            "Fail\n",
            "Pass\n",
            "Pass\n",
            "Top Score\n",
            "Fail\n"
          ]
        }
      ]
    },
    {
      "cell_type": "markdown",
      "source": [
        "6. Complete the body of the format_name function. This function receives the first_name and last_name parameters and then returns a properly formatted string.\n",
        "\n",
        "Specifically:\n",
        "\n",
        "If both the last_name and the first_name parameters are supplied, the function should return like so:"
      ],
      "metadata": {
        "id": "FiMRXDVwrYx2"
      }
    },
    {
      "cell_type": "code",
      "source": [
        "def format_name(first_name, last_name):\n",
        "\t# code goes here\n",
        "\tstring = 'Name: ' + ', '.join([nama for nama in [last_name, first_name] if nama]) if any([last_name, first_name]) else ''\t\n",
        "\treturn string \n",
        "\n",
        "print(format_name(\"Ernest\", \"Hemingway\"))\n",
        "# Should return the string \"Name: Hemingway, Ernest\"\n",
        "\n",
        "print(format_name(\"\", \"Madonna\"))\n",
        "# Should return the string \"Name: Madonna\"\n",
        "\n",
        "print(format_name(\"Voltaire\", \"\"))\n",
        "# Should return the string \"Name: Voltaire\"\n",
        "\n",
        "print(format_name(\"\", \"\"))\n",
        "# Should return an empty string"
      ],
      "metadata": {
        "colab": {
          "base_uri": "https://localhost:8080/"
        },
        "id": "irXrUBOercj9",
        "outputId": "4d68a0fe-9e59-46ff-bbae-f411732e4845"
      },
      "execution_count": 12,
      "outputs": [
        {
          "output_type": "stream",
          "name": "stdout",
          "text": [
            "Name: Hemingway, Ernest\n",
            "Name: Madonna\n",
            "Name: Voltaire\n",
            "\n"
          ]
        }
      ]
    }
  ]
}