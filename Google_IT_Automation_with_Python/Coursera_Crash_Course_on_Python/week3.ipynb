{
  "nbformat": 4,
  "nbformat_minor": 0,
  "metadata": {
    "colab": {
      "name": "Untitled11.ipynb",
      "provenance": []
    },
    "kernelspec": {
      "name": "python3",
      "display_name": "Python 3"
    },
    "language_info": {
      "name": "python"
    }
  },
  "cells": [
    {
      "cell_type": "markdown",
      "source": [
        "# Practice Quiz: While Loops"
      ],
      "metadata": {
        "id": "5KWX4qAfs--N"
      }
    },
    {
      "cell_type": "markdown",
      "source": [
        "2.\n",
        "Fill in the blanks to make the print_prime_factors function print all the prime factors of a number. A prime factor is a number that is prime and divides another without a remainder."
      ],
      "metadata": {
        "id": "Ks5U13UwtD3L"
      }
    },
    {
      "cell_type": "code",
      "source": [
        "def print_prime_factors(number):\n",
        "  # Start with two, which is the first prime\n",
        "  factor = 2\n",
        "  # Keep going until the factor is larger than the number\n",
        "  while factor <= number:\n",
        "    # Check if factor is a divisor of number\n",
        "    if number % factor == 0:\n",
        "      # If it is, print it and divide the original number\n",
        "      print(factor)\n",
        "      number = number / factor\n",
        "    else:\n",
        "      # If it's not, increment the factor by one\n",
        "      factor += 1\n",
        "  return \"Done\"\n",
        "\n",
        "print_prime_factors(100)\n",
        "# Should print 2,2,5,5\n",
        "# DO NOT DELETE THIS COMMENT"
      ],
      "metadata": {
        "colab": {
          "base_uri": "https://localhost:8080/",
          "height": 105
        },
        "id": "dY1BaQBVtSXW",
        "outputId": "88576efc-2aaa-475f-b2c8-58999964eceb"
      },
      "execution_count": 1,
      "outputs": [
        {
          "output_type": "stream",
          "name": "stdout",
          "text": [
            "2\n",
            "2\n",
            "5\n",
            "5\n"
          ]
        },
        {
          "output_type": "execute_result",
          "data": {
            "text/plain": [
              "'Done'"
            ],
            "application/vnd.google.colaboratory.intrinsic+json": {
              "type": "string"
            }
          },
          "metadata": {},
          "execution_count": 1
        }
      ]
    },
    {
      "cell_type": "markdown",
      "source": [
        "3.\n",
        "The following code can lead to an infinite loop. Fix the code so that it can finish successfully for all numbers.\n",
        "\n",
        "Note: Try running your function with the number 0 as the input, and see what you get!\n",
        "\n"
      ],
      "metadata": {
        "id": "m_go81DPtS5z"
      }
    },
    {
      "cell_type": "code",
      "source": [
        "def is_power_of_two(n):\n",
        "  # Check if the number can be divided by two without a remainder\n",
        "  while n % 2 == 0 and n != 0:\n",
        "    n = n / 2\n",
        "  # If after dividing by two the number is 1, it's a power of two\n",
        "  if n == 1:\n",
        "    return True\n",
        "  return False\n",
        "  \n",
        "\n",
        "print(is_power_of_two(0)) # Should be False\n",
        "print(is_power_of_two(1)) # Should be True\n",
        "print(is_power_of_two(8)) # Should be True\n",
        "print(is_power_of_two(9)) # Should be False"
      ],
      "metadata": {
        "colab": {
          "base_uri": "https://localhost:8080/"
        },
        "id": "pr0tZvoGtVJU",
        "outputId": "4958b58e-f0fd-47f9-a35a-7f82da01e048"
      },
      "execution_count": 2,
      "outputs": [
        {
          "output_type": "stream",
          "name": "stdout",
          "text": [
            "False\n",
            "True\n",
            "True\n",
            "False\n"
          ]
        }
      ]
    },
    {
      "cell_type": "markdown",
      "source": [
        "4.\n",
        "Fill in the empty function so that it returns the sum of all the divisors of a number, without including it. A divisor is a number that divides into another without a remainder."
      ],
      "metadata": {
        "id": "cqXVWNdXtW9s"
      }
    },
    {
      "cell_type": "code",
      "source": [
        "def sum_divisors(n):\n",
        "  sum = 0\n",
        "  mult = 1\n",
        "  while mult < n:\n",
        "    if n % mult == 0:\n",
        "      sum += mult\n",
        "    elif mult > n//2:\n",
        "      pass\n",
        "    mult += 1\n",
        "  # Return the sum of all divisors of n, not including n\n",
        "  return sum\n",
        "\n",
        "print(sum_divisors(0))\n",
        "# 0\n",
        "print(sum_divisors(3)) # Should sum of 1\n",
        "# 1\n",
        "print(sum_divisors(36)) # Should sum of 1+2+3+4+6+9+12+18\n",
        "# 55\n",
        "print(sum_divisors(102)) # Should be sum of 2+3+6+17+34+51\n",
        "# 114\n"
      ],
      "metadata": {
        "colab": {
          "base_uri": "https://localhost:8080/"
        },
        "id": "0RXCURTptYI6",
        "outputId": "7f559bd8-de5c-474d-cf6f-58a09cb1b37e"
      },
      "execution_count": 3,
      "outputs": [
        {
          "output_type": "stream",
          "name": "stdout",
          "text": [
            "0\n",
            "1\n",
            "55\n",
            "114\n"
          ]
        }
      ]
    },
    {
      "cell_type": "markdown",
      "source": [
        "5.\n",
        "The multiplication_table function prints the results of a number passed to it multiplied by 1 through 5. An additional requirement is that the result is not to exceed 25, which is done with the break statement. Fill in the blanks to complete the function to satisfy these conditions."
      ],
      "metadata": {
        "id": "LOjdIZRGtZ9h"
      }
    },
    {
      "cell_type": "code",
      "source": [
        "def multiplication_table(number):\n",
        "\t# Initialize the starting point of the multiplication table\n",
        "\tmultiplier = 1\n",
        "\t# Only want to loop through 5\n",
        "\twhile multiplier <= 5:\n",
        "\t\tresult = number * multiplier \n",
        "\t\t# What is the additional condition to exit out of the loop?\n",
        "\t\tif result > 25 :\n",
        "\t\t\tbreak\n",
        "\t\tprint(str(number) + \"x\" + str(multiplier) + \"=\" + str(result))\n",
        "\t\t# Increment the variable for the loop\n",
        "\t\tmultiplier += 1\n",
        "\n",
        "multiplication_table(3) \n",
        "# Should print: 3x1=3 3x2=6 3x3=9 3x4=12 3x5=15\n",
        "\n",
        "multiplication_table(5) \n",
        "# Should print: 5x1=5 5x2=10 5x3=15 5x4=20 5x5=25\n",
        "\n",
        "multiplication_table(8)\t\n",
        "# Should print: 8x1=8 8x2=16 8x3=24"
      ],
      "metadata": {
        "colab": {
          "base_uri": "https://localhost:8080/"
        },
        "id": "q_cfLeOmtdiM",
        "outputId": "63e1e80c-5b7c-4acf-99ca-a1557c5a5dd4"
      },
      "execution_count": 4,
      "outputs": [
        {
          "output_type": "stream",
          "name": "stdout",
          "text": [
            "3x1=3\n",
            "3x2=6\n",
            "3x3=9\n",
            "3x4=12\n",
            "3x5=15\n",
            "5x1=5\n",
            "5x2=10\n",
            "5x3=15\n",
            "5x4=20\n",
            "5x5=25\n",
            "8x1=8\n",
            "8x2=16\n",
            "8x3=24\n"
          ]
        }
      ]
    },
    {
      "cell_type": "markdown",
      "source": [
        "# Practice Quiz: For Loops"
      ],
      "metadata": {
        "id": "GknefS7Ztlxj"
      }
    },
    {
      "cell_type": "markdown",
      "source": [
        "2.\n",
        "Fill in the blanks to make the factorial function return the factorial of n. Then, print the first 10 factorials (from 0 to 9) with the corresponding number. Remember that the factorial of a number is defined as the product of an integer and all integers before it. For example, the factorial of five (5!) is equal to 1*2*3*4*5=120. Also recall that the factorial of zero (0!) is equal to 1."
      ],
      "metadata": {
        "id": "a0xuEVRGtnkW"
      }
    },
    {
      "cell_type": "code",
      "source": [
        "def factorial(n):\n",
        "    result = 1\n",
        "    for x in range(1, n):\n",
        "        result = result * x\n",
        "    return result\n",
        "\n",
        "for n in range(0, 10):\n",
        "    print(n, factorial(n+1))"
      ],
      "metadata": {
        "colab": {
          "base_uri": "https://localhost:8080/"
        },
        "id": "rMM4u0b7toiJ",
        "outputId": "cca2df27-c97b-4d94-c1c7-51a44d947153"
      },
      "execution_count": 5,
      "outputs": [
        {
          "output_type": "stream",
          "name": "stdout",
          "text": [
            "0 1\n",
            "1 1\n",
            "2 2\n",
            "3 6\n",
            "4 24\n",
            "5 120\n",
            "6 720\n",
            "7 5040\n",
            "8 40320\n",
            "9 362880\n"
          ]
        }
      ]
    },
    {
      "cell_type": "markdown",
      "source": [
        "3.\n",
        "Write a script that prints the first 10 cube numbers (x**3), starting with x=1 and ending with x=10."
      ],
      "metadata": {
        "id": "GDQI6JjftqPD"
      }
    },
    {
      "cell_type": "code",
      "source": [
        "for x in range(1,11):\n",
        "  print(x**3)"
      ],
      "metadata": {
        "colab": {
          "base_uri": "https://localhost:8080/"
        },
        "id": "ANZhg8GktsJO",
        "outputId": "103bf1e2-00e9-4596-ac58-42b2400bdf79"
      },
      "execution_count": 6,
      "outputs": [
        {
          "output_type": "stream",
          "name": "stdout",
          "text": [
            "1\n",
            "8\n",
            "27\n",
            "64\n",
            "125\n",
            "216\n",
            "343\n",
            "512\n",
            "729\n",
            "1000\n"
          ]
        }
      ]
    },
    {
      "cell_type": "markdown",
      "source": [
        "4.\n",
        "Write a script that prints the multiples of 7 between 0 and 100. Print one multiple per line and avoid printing any numbers that aren't multiples of 7. Remember that 0 is also a multiple of 7."
      ],
      "metadata": {
        "id": "YEVWDjhTtsvM"
      }
    },
    {
      "cell_type": "code",
      "source": [
        "for number in range(0, 100):\n",
        "    if number %7 == 0:\n",
        "        print (number)\n",
        "    "
      ],
      "metadata": {
        "colab": {
          "base_uri": "https://localhost:8080/"
        },
        "id": "pvH84iTrtuMM",
        "outputId": "44353012-73c2-42ed-b7c9-152925252573"
      },
      "execution_count": 7,
      "outputs": [
        {
          "output_type": "stream",
          "name": "stdout",
          "text": [
            "0\n",
            "7\n",
            "14\n",
            "21\n",
            "28\n",
            "35\n",
            "42\n",
            "49\n",
            "56\n",
            "63\n",
            "70\n",
            "77\n",
            "84\n",
            "91\n",
            "98\n"
          ]
        }
      ]
    },
    {
      "cell_type": "markdown",
      "source": [
        "5.\n",
        "The retry function tries to execute an operation that might fail, it retries the operation for a number of attempts.  Currently the code will keep executing the function even if it succeeds. Fill in the blank so the code stops trying after the operation succeeded."
      ],
      "metadata": {
        "id": "CWaUPyuotvET"
      }
    },
    {
      "cell_type": "code",
      "source": [
        "def retry(operation, attempts):\n",
        "  for n in range(attempts):\n",
        "    if operation():\n",
        "      print(\"Attempt \" + str(n) + \" succeeded\")\n",
        "      break\n",
        "    else:\n",
        "      print(\"Attempt \" + str(n) + \" failed\")\n",
        "\n",
        "retry(create_user, 3)\n",
        "retry(stop_service, 5)"
      ],
      "metadata": {
        "id": "5TWInnKmuEmZ"
      },
      "execution_count": null,
      "outputs": []
    },
    {
      "cell_type": "markdown",
      "source": [
        "# Module 3 Graded Assessment"
      ],
      "metadata": {
        "id": "QtCqysIRuMwi"
      }
    },
    {
      "cell_type": "markdown",
      "source": [
        "1.\n",
        "Fill in the blanks of this code to print out the numbers 1 through 7."
      ],
      "metadata": {
        "id": "bckLqocquSbq"
      }
    },
    {
      "cell_type": "code",
      "source": [
        "number = 1\n",
        "while number <= 7:\n",
        "\tprint(number, end=\" \")\n",
        "\tnumber += 1"
      ],
      "metadata": {
        "colab": {
          "base_uri": "https://localhost:8080/"
        },
        "id": "YegTQuD6uTQA",
        "outputId": "5c2be99e-9390-4a2d-cb16-0bc6d0890dfb"
      },
      "execution_count": 10,
      "outputs": [
        {
          "output_type": "stream",
          "name": "stdout",
          "text": [
            "1 2 3 4 5 6 7 "
          ]
        }
      ]
    },
    {
      "cell_type": "markdown",
      "source": [
        "2.\n",
        "The show_letters function should print out each letter of a word on a separate line. Fill in the blanks to make that happen."
      ],
      "metadata": {
        "id": "EW3x7qRDuUc8"
      }
    },
    {
      "cell_type": "code",
      "source": [
        "def show_letters(word):\n",
        "\tfor words in word:\n",
        "\t\tprint(words)\n",
        "\n",
        "show_letters(\"Hello\")\n",
        "# Should print one line per letter"
      ],
      "metadata": {
        "colab": {
          "base_uri": "https://localhost:8080/"
        },
        "id": "Dn9EGZ7cuWVZ",
        "outputId": "8a41d6fd-f7e6-455b-f0bb-cca9e2c599b2"
      },
      "execution_count": 11,
      "outputs": [
        {
          "output_type": "stream",
          "name": "stdout",
          "text": [
            "H\n",
            "e\n",
            "l\n",
            "l\n",
            "o\n"
          ]
        }
      ]
    },
    {
      "cell_type": "markdown",
      "source": [
        "3.\n",
        "Complete the function digits(n) that returns how many digits the number has. For example: 25 has 2 digits and 144 has 3 digits. Tip: you can figure out the digits of a number by dividing it by 10 once per digit until there are no digits left."
      ],
      "metadata": {
        "id": "rlc9DQgVuXnz"
      }
    },
    {
      "cell_type": "code",
      "source": [
        "def digits(n):\n",
        "\tcount = 0\n",
        "\tif n == 0:\n",
        "\t  return 1\n",
        "\twhile (n >= 1):\n",
        "\t\tcount += 1\n",
        "\t\tn = n / 10\n",
        "\treturn count\n",
        "\t\n",
        "print(digits(25))   # Should print 2\n",
        "print(digits(144))  # Should print 3\n",
        "print(digits(1000)) # Should print 4\n",
        "print(digits(0))    # Should print 1"
      ],
      "metadata": {
        "colab": {
          "base_uri": "https://localhost:8080/"
        },
        "id": "37oV0YMruY8r",
        "outputId": "7750e68d-019a-4e07-fa1d-142d26cb2c73"
      },
      "execution_count": 13,
      "outputs": [
        {
          "output_type": "stream",
          "name": "stdout",
          "text": [
            "2\n",
            "3\n",
            "4\n",
            "1\n"
          ]
        }
      ]
    },
    {
      "cell_type": "markdown",
      "source": [
        "4.\n",
        "This function prints out a multiplication table (where each number is the result of multiplying the first number of its row by the number at the top of its column). Fill in the blanks so that calling multiplication_table(1, 3) will print out:\n",
        "\n",
        "1 2 3 \n",
        "\n",
        "2 4 6 \n",
        "\n",
        "3 6 9"
      ],
      "metadata": {
        "id": "sl4p9doluaJJ"
      }
    },
    {
      "cell_type": "code",
      "source": [
        "def multiplication_table(start, stop):\n",
        "\tfor x in range(start, stop + 1):\n",
        "\t\tfor y in range(start, stop + 1):\n",
        "\t\t\tprint(str(x*y), end=\" \")\n",
        "\t\tprint()\n",
        "\n",
        "multiplication_table(1, 3)\n",
        "# Should print the multiplication table shown above"
      ],
      "metadata": {
        "colab": {
          "base_uri": "https://localhost:8080/"
        },
        "id": "PGKiWbyzubfJ",
        "outputId": "55f1bd01-8fda-4430-a602-68b9283b5a56"
      },
      "execution_count": 12,
      "outputs": [
        {
          "output_type": "stream",
          "name": "stdout",
          "text": [
            "1 2 3 \n",
            "2 4 6 \n",
            "3 6 9 \n"
          ]
        }
      ]
    },
    {
      "cell_type": "markdown",
      "source": [
        "5.\n",
        "The counter function counts down from start to stop when start is bigger than stop, and counts up from start to stop otherwise. Fill in the blanks to make this work correctly."
      ],
      "metadata": {
        "id": "Uoytp7SxudEK"
      }
    },
    {
      "cell_type": "code",
      "source": [
        "def counter(start, stop):\n",
        "\tx = start\n",
        "\tif start > stop:\n",
        "\t\treturn_string = \"Counting down: \"\n",
        "\t\twhile x >= stop:\n",
        "\t\t\treturn_string += str(x)\n",
        "\t\t\tif x > stop:\n",
        "\t\t\t\treturn_string += \",\"\n",
        "\t\t\tx -= 1\n",
        "\telse:\n",
        "\t\treturn_string = \"Counting up: \"\n",
        "\t\twhile x <= stop:\n",
        "\t\t\treturn_string += str(x)\n",
        "\t\t\tif x < stop:\n",
        "\t\t\t\treturn_string += \",\"\n",
        "\t\t\tx += 1\n",
        "\treturn return_string\n",
        "\n",
        "print(counter(1, 10)) # Should be \"Counting up: 1,2,3,4,5,6,7,8,9,10\"\n",
        "print(counter(2, 1)) # Should be \"Counting down: 2,1\"\n",
        "print(counter(5, 5)) # Should be \"Counting up: 5\""
      ],
      "metadata": {
        "colab": {
          "base_uri": "https://localhost:8080/"
        },
        "id": "UiRz2_-WuewY",
        "outputId": "de686d14-396b-4acc-a188-b3c789cdd034"
      },
      "execution_count": 14,
      "outputs": [
        {
          "output_type": "stream",
          "name": "stdout",
          "text": [
            "Counting up: 1,2,3,4,5,6,7,8,9,10\n",
            "Counting down: 2,1\n",
            "Counting up: 5\n"
          ]
        }
      ]
    },
    {
      "cell_type": "markdown",
      "source": [
        "6.\n",
        "The even_numbers function returns a space-separated string of all positive numbers that are divisible by 2, up to and including the maximum that's passed into the function. For example, even_numbers(6) returns “2 4 6”. Fill in the blank to make this work."
      ],
      "metadata": {
        "id": "EwDF1Xpiufu5"
      }
    },
    {
      "cell_type": "code",
      "source": [
        "def even_numbers(maximum):\n",
        "\treturn_string = \"\"\n",
        "\tfor x in range(1, maximum + 1):\n",
        "\t\tif x % 2 == 0:\n",
        "\t\t\treturn_string += str(x) + \" \"\n",
        "\treturn return_string.strip()\n",
        "\t\t\n",
        "\n",
        "print(even_numbers(6))  # Should be 2 4 6\n",
        "print(even_numbers(10)) # Should be 2 4 6 8 10\n",
        "print(even_numbers(1))  # No numbers displayed\n",
        "print(even_numbers(3))  # Should be 2\n",
        "print(even_numbers(0))  # No numbers displayed"
      ],
      "metadata": {
        "colab": {
          "base_uri": "https://localhost:8080/"
        },
        "id": "QRufl_37uhW3",
        "outputId": "613102b8-643c-4d19-8d9d-b44a74f9837e"
      },
      "execution_count": 15,
      "outputs": [
        {
          "output_type": "stream",
          "name": "stdout",
          "text": [
            "2 4 6\n",
            "2 4 6 8 10\n",
            "\n",
            "2\n",
            "\n"
          ]
        }
      ]
    }
  ]
}