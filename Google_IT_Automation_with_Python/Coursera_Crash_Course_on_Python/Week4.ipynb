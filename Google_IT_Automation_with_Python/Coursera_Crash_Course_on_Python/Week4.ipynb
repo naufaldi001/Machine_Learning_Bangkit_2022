{
  "nbformat": 4,
  "nbformat_minor": 0,
  "metadata": {
    "colab": {
      "name": "Untitled12.ipynb",
      "provenance": []
    },
    "kernelspec": {
      "name": "python3",
      "display_name": "Python 3"
    },
    "language_info": {
      "name": "python"
    }
  },
  "cells": [
    {
      "cell_type": "markdown",
      "source": [
        "# Practice Quiz: Strings"
      ],
      "metadata": {
        "id": "ywiXqX3o3cTC"
      }
    },
    {
      "cell_type": "markdown",
      "source": [
        "1.\n",
        "The is_palindrome function checks if a string is a palindrome. A palindrome is a string that can be equally read from left to right or right to left, omitting blank spaces, and ignoring capitalization. Examples of palindromes are words like kayak and radar, and phrases like \"Never Odd or Even\". Fill in the blanks in this function to return True if the passed string is a palindrome, False if not."
      ],
      "metadata": {
        "id": "DtI0zsdf3e1_"
      }
    },
    {
      "cell_type": "code",
      "source": [
        "def is_palindrome(input_string):\n",
        "\t# We'll create two strings, to compare them\n",
        "\tnew_string = \"\"\n",
        "\treverse_string = \"\"\n",
        "\t# Traverse through each letter of the input string\n",
        "\tfor string in input_string.lower():\n",
        "\t\t# Add any non-blank letters to the \n",
        "\t\t# end of one string, and to the front\n",
        "\t\t# of the other string. \n",
        "\t\tif string.isalpha():\n",
        "\t\t\tnew_string = new_string + string\n",
        "\t\t\treverse_string = string + reverse_string\n",
        "\t# Compare the strings\n",
        "\tif reverse_string == new_string:\n",
        "\t\treturn True\n",
        "\treturn False\n",
        "\n",
        "print(is_palindrome(\"Never Odd or Even\")) # Should be True\n",
        "print(is_palindrome(\"abc\")) # Should be False\n",
        "print(is_palindrome(\"kayak\")) # Should be True"
      ],
      "metadata": {
        "colab": {
          "base_uri": "https://localhost:8080/"
        },
        "id": "a4E_99uz3c9v",
        "outputId": "46b3947e-c277-4dc5-9500-3ba6a53ee1a8"
      },
      "execution_count": 1,
      "outputs": [
        {
          "output_type": "stream",
          "name": "stdout",
          "text": [
            "True\n",
            "False\n",
            "True\n"
          ]
        }
      ]
    },
    {
      "cell_type": "markdown",
      "source": [
        "2.\n",
        "Using the format method, fill in the gaps in the convert_distance function so that it returns the phrase \"X miles equals Y km\", with Y having only 1 decimal place. For example, convert_distance(12) should return \"12 miles equals 19.2 km\"."
      ],
      "metadata": {
        "id": "42Q9fGnu3gPo"
      }
    },
    {
      "cell_type": "code",
      "source": [
        "def convert_distance(miles):\n",
        "\tkm = miles * 1.6 \n",
        "\tresult = \"{} miles equals {:.1f} km\".format(miles, km)\n",
        "\treturn result\n",
        "\n",
        "print(convert_distance(12)) # Should be: 12 miles equals 19.2 km\n",
        "print(convert_distance(5.5)) # Should be: 5.5 miles equals 8.8 km\n",
        "print(convert_distance(11)) # Should be: 11 miles equals 17.6 km"
      ],
      "metadata": {
        "colab": {
          "base_uri": "https://localhost:8080/"
        },
        "id": "fwmpSBzd3h2-",
        "outputId": "a6586b61-e0f5-4fbc-dd95-74c9421e1247"
      },
      "execution_count": 2,
      "outputs": [
        {
          "output_type": "stream",
          "name": "stdout",
          "text": [
            "12 miles equals 19.2 km\n",
            "5.5 miles equals 8.8 km\n",
            "11 miles equals 17.6 km\n"
          ]
        }
      ]
    },
    {
      "cell_type": "markdown",
      "source": [
        "4.\n",
        "Fill in the gaps in the nametag function so that it uses the format method to return first_name and the first initial of last_name followed by a period. For example, nametag(\"Jane\", \"Smith\") should return \"Jane S.\""
      ],
      "metadata": {
        "id": "J5zSvg5s3jEI"
      }
    },
    {
      "cell_type": "code",
      "source": [
        "def nametag(first_name, last_name):\n",
        "\treturn(\"{} {}.\".format(first_name, last_name[0]))\n",
        "\n",
        "print(nametag(\"Jane\", \"Smith\")) \n",
        "# Should display \"Jane S.\" \n",
        "print(nametag(\"Francesco\", \"Rinaldi\")) \n",
        "# Should display \"Francesco R.\" \n",
        "print(nametag(\"Jean-Luc\", \"Grand-Pierre\")) \n",
        "# Should display \"Jean-Luc G.\" "
      ],
      "metadata": {
        "colab": {
          "base_uri": "https://localhost:8080/"
        },
        "id": "gD7ep-SR3li3",
        "outputId": "b466424f-39f8-4866-b383-44f2b17beaef"
      },
      "execution_count": 3,
      "outputs": [
        {
          "output_type": "stream",
          "name": "stdout",
          "text": [
            "Jane S.\n",
            "Francesco R.\n",
            "Jean-Luc G.\n"
          ]
        }
      ]
    },
    {
      "cell_type": "markdown",
      "source": [
        "5.\n",
        "The replace_ending function replaces the old string in a sentence with the new string, but only if the sentence ends with the old string. If there is more than one occurrence of the old string in the sentence, only the one at the end is replaced, not all of them. For example, replace_ending(\"abcabc\", \"abc\", \"xyz\") should return abcxyz, not xyzxyz or xyzabc. The string comparison is case-sensitive, so replace_ending(\"abcabc\", \"ABC\", \"xyz\") should return abcabc (no changes made). "
      ],
      "metadata": {
        "id": "TKoeysQk3nA_"
      }
    },
    {
      "cell_type": "code",
      "source": [
        "def replace_ending(sentence, old, new):\n",
        "\t# Check if the old string is at the end of the sentence \n",
        "\tif sentence.endswith(old):\n",
        "\t\t# Using i as the slicing index, combine the part\n",
        "\t\t# of the sentence up to the matched string at the \n",
        "\t\t# end with the new string\n",
        "\t\ti = len(old)\n",
        "\t\tnew_sentence = sentence[:-i] + new\n",
        "\t\treturn new_sentence\n",
        "\n",
        "\t# Return the original sentence if there is no match \n",
        "\treturn sentence\n",
        "\t\n",
        "print(replace_ending(\"It's raining cats and cats\", \"cats\", \"dogs\")) \n",
        "# Should display \"It's raining cats and dogs\"\n",
        "print(replace_ending(\"She sells seashells by the seashore\", \"seashells\", \"donuts\")) \n",
        "# Should display \"She sells seashells by the seashore\"\n",
        "print(replace_ending(\"The weather is nice in May\", \"may\", \"april\")) \n",
        "# Should display \"The weather is nice in May\"\n",
        "print(replace_ending(\"The weather is nice in May\", \"May\", \"April\")) \n",
        "# Should display \"The weather is nice in April\"\n",
        "\n",
        "\n",
        "\n"
      ],
      "metadata": {
        "colab": {
          "base_uri": "https://localhost:8080/"
        },
        "id": "-8W-_ki83poe",
        "outputId": "be4f5e6c-ef03-4e39-a5c0-c061647e79b5"
      },
      "execution_count": 4,
      "outputs": [
        {
          "output_type": "stream",
          "name": "stdout",
          "text": [
            "It's raining cats and dogs\n",
            "She sells seashells by the seashore\n",
            "The weather is nice in May\n",
            "The weather is nice in April\n"
          ]
        }
      ]
    },
    {
      "cell_type": "markdown",
      "source": [
        "# Practice Quiz: Lists"
      ],
      "metadata": {
        "id": "wYy0M-Lc3otg"
      }
    },
    {
      "cell_type": "markdown",
      "source": [
        "1.\n",
        "Given a list of filenames, we want to rename all the files with extension hpp to the extension h. To do this, we would like to generate a new list called newfilenames, consisting of the new filenames. Fill in the blanks in the code using any of the methods you’ve learned thus far, like a for loop or a list comprehension."
      ],
      "metadata": {
        "id": "NfCIOC5b3vGV"
      }
    },
    {
      "cell_type": "code",
      "source": [
        "filenames = [\"program.c\", \"stdio.hpp\", \"sample.hpp\", \"a.out\", \"math.hpp\", \"hpp.out\"]\n",
        "# Generate newfilenames as a list containing the new filenames\n",
        "# using as many lines of code as your chosen method requires.\n",
        "newfilenames = [replacedfile.replace('.hpp','.h') for replacedfile in filenames]  \n",
        "\n",
        "print(newfilenames) \n",
        "# Should be [\"program.c\", \"stdio.h\", \"sample.h\", \"a.out\", \"math.h\", \"hpp.out\"]"
      ],
      "metadata": {
        "colab": {
          "base_uri": "https://localhost:8080/"
        },
        "id": "zetHCI6W3v2E",
        "outputId": "0fd3c3a3-3e21-4ad4-8796-af2e7a9c4085"
      },
      "execution_count": 5,
      "outputs": [
        {
          "output_type": "stream",
          "name": "stdout",
          "text": [
            "['program.c', 'stdio.h', 'sample.h', 'a.out', 'math.h', 'hpp.out']\n"
          ]
        }
      ]
    },
    {
      "cell_type": "markdown",
      "source": [
        "2.\n",
        "Let's create a function that turns text into pig latin: a simple text transformation that modifies each word moving the first character to the end and appending \"ay\" to the end. For example, python ends up as ythonpay."
      ],
      "metadata": {
        "id": "G9RmSTCo3wzv"
      }
    },
    {
      "cell_type": "code",
      "source": [
        "def pig_latin(text):\n",
        "  say = \"\"\n",
        "  # Separate the text into words\n",
        "  words = text.split()\n",
        "  for word in words:\n",
        "    # Create the pig latin word and add it to the list\n",
        "    plw = word[1:] + word[0] + \"ay\"\n",
        "    say = say + \" \" + plw\n",
        "    # Turn the list back into a phrase\n",
        "  return say\n",
        "\t\t\n",
        "print(pig_latin(\"hello how are you\")) # Should be \"ellohay owhay reaay ouyay\"\n",
        "print(pig_latin(\"programming in python is fun\")) # Should be \"rogrammingpay niay ythonpay siay unfay\""
      ],
      "metadata": {
        "colab": {
          "base_uri": "https://localhost:8080/"
        },
        "id": "8O9kFBAs3yBo",
        "outputId": "4f08eeb7-edbc-4675-c79e-7ff7b1aa83cf"
      },
      "execution_count": 6,
      "outputs": [
        {
          "output_type": "stream",
          "name": "stdout",
          "text": [
            " ellohay owhay reaay ouyay\n",
            " rogrammingpay niay ythonpay siay unfay\n"
          ]
        }
      ]
    },
    {
      "cell_type": "markdown",
      "source": [
        "3.\n",
        "The permissions of a file in a Linux system are split into three sets of three permissions: read, write, and execute for the owner, group, and others. Each of the three values can be expressed as an octal number summing each permission, with 4 corresponding to read, 2 to write, and 1 to execute. Or it can be written with a string using the letters r, w, and x or - when the permission is not granted.\n",
        " For example: \n",
        " 640 is read/write for the owner, read for the group, and no permissions for the others; converted to a string, it would be: \"rw-r-----\"\n",
        " 755 is read/write/execute for the owner, and read/execute for group and others; converted to a string, it would be: \"rwxr-xr-x\"\n",
        " Fill in the blanks to make the code convert a permission in octal format into a string format."
      ],
      "metadata": {
        "id": "SDgAFQzi3y0B"
      }
    },
    {
      "cell_type": "code",
      "source": [
        "def octal_to_string(octal):\n",
        "    result = \"\"\n",
        "    value_letters = [(4,\"r\"),(2,\"w\"),(1,\"x\")]\n",
        "    # Iterate over each of the digits in octal\n",
        "    for i in [int(n) for n in str(octal)]:\n",
        "        # Check for each of the permissions values\n",
        "        for value, letter in value_letters:\n",
        "            if i >= value:\n",
        "                result += letter\n",
        "                i -= value\n",
        "            else:\n",
        "                result = result + '-' \n",
        "    return result\n",
        "    \n",
        "print(octal_to_string(755)) # Should be rwxr-xr-x\n",
        "print(octal_to_string(644)) # Should be rw-r--r--\n",
        "print(octal_to_string(750)) # Should be rwxr-x---\n",
        "print(octal_to_string(600)) # Should be rw-------"
      ],
      "metadata": {
        "colab": {
          "base_uri": "https://localhost:8080/"
        },
        "id": "6Bwmjoiy30S_",
        "outputId": "d31c3f8a-e319-46bb-ea9e-c298487b3764"
      },
      "execution_count": 7,
      "outputs": [
        {
          "output_type": "stream",
          "name": "stdout",
          "text": [
            "rwxr-xr-x\n",
            "rw-r--r--\n",
            "rwxr-x---\n",
            "rw-------\n"
          ]
        }
      ]
    },
    {
      "cell_type": "markdown",
      "source": [
        "5.\n",
        "The group_list function accepts a group name and a list of members, and returns a string with the format: group_name: member1, member2, … For example, group_list(\"g\", [\"a\",\"b\",\"c\"]) returns \"g: a, b, c\". Fill in the gaps in this function to do that."
      ],
      "metadata": {
        "id": "ILzP3YLB31OP"
      }
    },
    {
      "cell_type": "code",
      "source": [
        "def group_list(group, users):\n",
        "  members = group + \":\" + \",\".join(users) \n",
        "  return members\n",
        "\n",
        "print(group_list(\"Marketing\", [\"Mike\", \"Karen\", \"Jake\", \"Tasha\"])) # Should be \"Marketing: Mike, Karen, Jake, Tasha\"\n",
        "print(group_list(\"Engineering\", [\"Kim\", \"Jay\", \"Tom\"])) # Should be \"Engineering: Kim, Jay, Tom\"\n",
        "print(group_list(\"Users\", \"\")) # Should be \"Users:\""
      ],
      "metadata": {
        "colab": {
          "base_uri": "https://localhost:8080/"
        },
        "id": "Z5t-f5xw329o",
        "outputId": "45bbd4a0-ce4a-4724-d219-dfd52cf2b2b1"
      },
      "execution_count": 8,
      "outputs": [
        {
          "output_type": "stream",
          "name": "stdout",
          "text": [
            "Marketing:Mike,Karen,Jake,Tasha\n",
            "Engineering:Kim,Jay,Tom\n",
            "Users:\n"
          ]
        }
      ]
    },
    {
      "cell_type": "markdown",
      "source": [
        "6.\n",
        "The guest_list function reads in a list of tuples with the name, age, and profession of each party guest, and prints the sentence \"Guest is X years old and works as __.\" for each one. For example, guest_list(('Ken', 30, \"Chef\"), (\"Pat\", 35, 'Lawyer'), ('Amanda', 25, \"Engineer\")) should print out: Ken is 30 years old and works as Chef. Pat is 35 years old and works as Lawyer. Amanda is 25 years old and works as Engineer. Fill in the gaps in this function to do that. "
      ],
      "metadata": {
        "id": "IsHMH-LZ33rp"
      }
    },
    {
      "cell_type": "code",
      "source": [
        "def guest_list(guests):\n",
        "\tfor guest in guests:\n",
        "\t\tname, old, work = guest\n",
        "\t\tprint(\"{} is {} years old and works as {}\".format(name, old, work))\n",
        "\n",
        "guest_list([('Ken', 30, \"Chef\"), (\"Pat\", 35, 'Lawyer'), ('Amanda', 25, \"Engineer\")])\n",
        "\n",
        "#Click Run to submit code\n",
        "\"\"\"\n",
        "Output should match:\n",
        "Ken is 30 years old and works as Chef\n",
        "Pat is 35 years old and works as Lawyer\n",
        "Amanda is 25 years old and works as Engineer\n",
        "\"\"\""
      ],
      "metadata": {
        "colab": {
          "base_uri": "https://localhost:8080/",
          "height": 87
        },
        "id": "MGoK5aK035BH",
        "outputId": "f9666505-424e-4737-96d8-d4859d76cf8a"
      },
      "execution_count": 9,
      "outputs": [
        {
          "output_type": "stream",
          "name": "stdout",
          "text": [
            "Ken is 30 years old and works as Chef\n",
            "Pat is 35 years old and works as Lawyer\n",
            "Amanda is 25 years old and works as Engineer\n"
          ]
        },
        {
          "output_type": "execute_result",
          "data": {
            "text/plain": [
              "'\\nOutput should match:\\nKen is 30 years old and works as Chef\\nPat is 35 years old and works as Lawyer\\nAmanda is 25 years old and works as Engineer\\n'"
            ],
            "application/vnd.google.colaboratory.intrinsic+json": {
              "type": "string"
            }
          },
          "metadata": {},
          "execution_count": 9
        }
      ]
    },
    {
      "cell_type": "markdown",
      "source": [
        "# Practice Quiz: Dictionaries"
      ],
      "metadata": {
        "id": "A6Na4z-V36uB"
      }
    },
    {
      "cell_type": "markdown",
      "source": [
        "1.\n",
        "The email_list function receives a dictionary, which contains domain names as keys, and a list of users as values. Fill in the blanks to generate a list that contains complete email addresses (e.g. diana.prince@gmail.com)."
      ],
      "metadata": {
        "id": "Kb1MI2jT37eR"
      }
    },
    {
      "cell_type": "code",
      "source": [
        "def email_list(domains):\n",
        "\temails = []\n",
        "\tfor domain, users in domains.items():\n",
        "\t  for user in users:\n",
        "\t    emails.append(user + \"@\" + domain)\n",
        "\treturn(emails)\n",
        "\n",
        "print(email_list({\"gmail.com\": [\"clark.kent\", \"diana.prince\", \"peter.parker\"], \"yahoo.com\": [\"barbara.gordon\", \"jean.grey\"], \"hotmail.com\": [\"bruce.wayne\"]}))"
      ],
      "metadata": {
        "colab": {
          "base_uri": "https://localhost:8080/"
        },
        "id": "a_rEkwS-3882",
        "outputId": "b8a8eae6-9e44-4470-ffd4-60fcb672ef39"
      },
      "execution_count": 10,
      "outputs": [
        {
          "output_type": "stream",
          "name": "stdout",
          "text": [
            "['clark.kent@gmail.com', 'diana.prince@gmail.com', 'peter.parker@gmail.com', 'barbara.gordon@yahoo.com', 'jean.grey@yahoo.com', 'bruce.wayne@hotmail.com']\n"
          ]
        }
      ]
    },
    {
      "cell_type": "markdown",
      "source": [
        "2.\n",
        "The groups_per_user function receives a dictionary, which contains group names with the list of users. Users can belong to multiple groups. Fill in the blanks to return a dictionary with the users as keys and a list of their groups as values. "
      ],
      "metadata": {
        "id": "iTFURgxa3-9-"
      }
    },
    {
      "cell_type": "code",
      "source": [
        "def groups_per_user(group_dictionary):\n",
        "\tuser_groups = {}\n",
        "\t# Go through group_dictionary\n",
        "\tfor group, users in group_dictionary.items():\n",
        "\t\t# Now go through the users in the group\n",
        "\t\tfor user in users:\n",
        "\t\t\tif user not in user_groups:\n",
        "\t\t\t\tuser_groups[user] = []\n",
        "\t\t\tuser_groups[user].append(group)\n",
        "\t\t\t# Now add the group to the the list of\n",
        "# groups for this user, creating the entry\n",
        "# in the dictionary if necessary\n",
        "\n",
        "\treturn(user_groups)\n",
        "\n",
        "print(groups_per_user({\"local\": [\"admin\", \"userA\"],\n",
        "\t\t\"public\":  [\"admin\", \"userB\"],\n",
        "\t\t\"administrator\": [\"admin\"] }))"
      ],
      "metadata": {
        "colab": {
          "base_uri": "https://localhost:8080/"
        },
        "id": "xel0mG5l3-dv",
        "outputId": "f9d968eb-a41a-4ceb-d1f5-eda61cbabbb8"
      },
      "execution_count": 11,
      "outputs": [
        {
          "output_type": "stream",
          "name": "stdout",
          "text": [
            "{'admin': ['local', 'public', 'administrator'], 'userA': ['local'], 'userB': ['public']}\n"
          ]
        }
      ]
    },
    {
      "cell_type": "markdown",
      "source": [
        "3.\n",
        "The dict.update method updates one dictionary with the items coming from the other dictionary, so that existing entries are replaced and new entries are added. What is the content of the dictionary “wardrobe“ at the end of the following code?"
      ],
      "metadata": {
        "id": "f5U18HHp4BDB"
      }
    },
    {
      "cell_type": "code",
      "source": [
        "wardrobe = {'shirt': ['red', 'blue', 'white'], 'jeans': ['blue', 'black']}\n",
        "new_items = {'jeans': ['white'], 'scarf': ['yellow'], 'socks': ['black', 'brown']}\n",
        "wardrobe.update(new_items)"
      ],
      "metadata": {
        "id": "mOni5U_T4CZI"
      },
      "execution_count": 12,
      "outputs": []
    },
    {
      "cell_type": "markdown",
      "source": [
        "5.\n",
        "The add_prices function returns the total price of all of the groceries in the  dictionary. Fill in the blanks to complete this function."
      ],
      "metadata": {
        "id": "nzomfGHi4DkX"
      }
    },
    {
      "cell_type": "code",
      "source": [
        "def add_prices(basket):\n",
        "\t# Initialize the variable that will be used for the calculation\n",
        "\ttotal = 0\n",
        "\t# Iterate through the dictionary items\n",
        "\tfor items in basket:\n",
        "\t\t# Add each price to the total calculation\n",
        "\t\t# Hint: how do you access the values of\n",
        "\t\t# dictionary items?\n",
        "\t\ttotal += basket[items]\n",
        "\t# Limit the return value to 2 decimal places\n",
        "\treturn round(total, 2)  \n",
        "\n",
        "groceries = {\"bananas\": 1.56, \"apples\": 2.50, \"oranges\": 0.99, \"bread\": 4.59, \n",
        "\t\"coffee\": 6.99, \"milk\": 3.39, \"eggs\": 2.98, \"cheese\": 5.44}\n",
        "\n",
        "print(add_prices(groceries)) # Should print 28.44\n"
      ],
      "metadata": {
        "colab": {
          "base_uri": "https://localhost:8080/"
        },
        "id": "bgMFSv1c4GRw",
        "outputId": "af4bcbbc-045a-43b6-cf35-ec74de450811"
      },
      "execution_count": 13,
      "outputs": [
        {
          "output_type": "stream",
          "name": "stdout",
          "text": [
            "28.44\n"
          ]
        }
      ]
    },
    {
      "cell_type": "markdown",
      "source": [
        "# Module 4 Graded Assessment"
      ],
      "metadata": {
        "id": "yM99D8u44H0A"
      }
    },
    {
      "cell_type": "markdown",
      "source": [
        "1.\n",
        "\n",
        "The format_address function separates out parts of the address string into new strings: house_number and street_name, and returns: \"house number X on street named Y\". The format of the input string is: numeric house number, followed by the street name which may contain numbers, but never by themselves, and could be several words long. For example, \"123 Main Street\", \"1001 1st Ave\", or \"55 North Center Drive\". Fill in the gaps to complete this function."
      ],
      "metadata": {
        "id": "g2Ol0u8i4JjX"
      }
    },
    {
      "cell_type": "code",
      "source": [
        "def format_address(address_string):\n",
        "  # Declare variables\n",
        "  house_num, street_name = '', ''\n",
        "\n",
        "  # Separate the address string into parts\n",
        "  address_string = address_string.split()\n",
        "\n",
        "  # Traverse through the address parts\n",
        "  for address in address_string:\n",
        "  # Determine if the address part is the\n",
        "  # house number or part of the street name\n",
        "    if address.isdigit():\n",
        "      house_num= address\n",
        "  # Does anything else need to be done \n",
        "  # before returning the result?\n",
        "    else:\n",
        "      street_name = street_name + address + ' '\n",
        "  \n",
        "  # Return the formatted string  \n",
        "  return \"house number {} on street named {}\".format(house_num, street_name)\n",
        "\n",
        "print(format_address(\"123 Main Street\"))\n",
        "# Should print: \"house number 123 on street named Main Street\"\n",
        "\n",
        "print(format_address(\"1001 1st Ave\"))\n",
        "# Should print: \"house number 1001 on street named 1st Ave\"\n",
        "\n",
        "print(format_address(\"55 North Center Drive\"))\n",
        "# Should print \"house number 55 on street named North Center Drive\"\n"
      ],
      "metadata": {
        "colab": {
          "base_uri": "https://localhost:8080/"
        },
        "id": "iWn5u0my4K1H",
        "outputId": "9c0c59c0-d2d6-48ca-eeea-a5ef0d0c8ed8"
      },
      "execution_count": 14,
      "outputs": [
        {
          "output_type": "stream",
          "name": "stdout",
          "text": [
            "house number 123 on street named Main Street \n",
            "house number 1001 on street named 1st Ave \n",
            "house number 55 on street named North Center Drive \n"
          ]
        }
      ]
    },
    {
      "cell_type": "markdown",
      "source": [
        "2.\n",
        "The highlight_word function changes the given word in a sentence to its upper-case version. For example, highlight_word(\"Have a nice day\", \"nice\") returns \"Have a NICE day\". Can you write this function in just one line?"
      ],
      "metadata": {
        "id": "TD5Kyih94L4W"
      }
    },
    {
      "cell_type": "code",
      "source": [
        "def highlight_word(sentence, word):\n",
        "\treturn(sentence.replace(word, word.upper()))\n",
        "\n",
        "print(highlight_word(\"Have a nice day\", \"nice\"))\n",
        "print(highlight_word(\"Shhh, don't be so loud!\", \"loud\"))\n",
        "print(highlight_word(\"Automating with Python is fun\", \"fun\"))\n"
      ],
      "metadata": {
        "colab": {
          "base_uri": "https://localhost:8080/"
        },
        "id": "2IB4fPEX4NKX",
        "outputId": "a4b16eec-be90-44cf-c484-dfd50f98032f"
      },
      "execution_count": 15,
      "outputs": [
        {
          "output_type": "stream",
          "name": "stdout",
          "text": [
            "Have a NICE day\n",
            "Shhh, don't be so LOUD!\n",
            "Automating with Python is FUN\n"
          ]
        }
      ]
    },
    {
      "cell_type": "markdown",
      "source": [
        "3.\n",
        "A professor with two assistants, Jamie and Drew, wants an attendance list of the students, in the order that they arrived in the classroom. Drew was the first one to note which students arrived, and then Jamie took over. After the class, they each entered their lists into the computer and emailed them to the professor, who needs to combine them into one, in the order of each student's arrival. Jamie emailed a follow-up, saying that her list is in reverse order. Complete the steps to combine them into one list as follows: the contents of Drew's list, followed by Jamie's list in reverse order, to get an accurate list of the students as they arrived."
      ],
      "metadata": {
        "id": "2cQyfBTs4OIw"
      }
    },
    {
      "cell_type": "code",
      "source": [
        "def combine_lists(list1, list2):\n",
        "  # Generate a new list containing the elements of list2\n",
        "  # Followed by the elements of list1 in reverse order\n",
        "  combine = []\n",
        "  list1.reverse()\n",
        "  for list in list2:\n",
        "    combine.append(list)\n",
        "  for list in list1:\n",
        "      combine.append(list)\n",
        "  return combine\n",
        "\t\n",
        "Jamies_list = [\"Alice\", \"Cindy\", \"Bobby\", \"Jan\", \"Peter\"]\n",
        "Drews_list = [\"Mike\", \"Carol\", \"Greg\", \"Marcia\"]\n",
        "\n",
        "print(combine_lists(Jamies_list, Drews_list))\n"
      ],
      "metadata": {
        "colab": {
          "base_uri": "https://localhost:8080/"
        },
        "id": "Kt1BMSYj4QEx",
        "outputId": "adf768db-d449-419c-830f-9164a1f1ff82"
      },
      "execution_count": 16,
      "outputs": [
        {
          "output_type": "stream",
          "name": "stdout",
          "text": [
            "['Mike', 'Carol', 'Greg', 'Marcia', 'Peter', 'Jan', 'Bobby', 'Cindy', 'Alice']\n"
          ]
        }
      ]
    },
    {
      "cell_type": "markdown",
      "source": [
        "4.\n",
        "Use a list comprehension to create a list of squared numbers (n*n). The function receives the variables start and end, and returns a list of squares of consecutive numbers between start and end inclusively.\n",
        "For example, squares(2, 3) should return [4, 9]."
      ],
      "metadata": {
        "id": "CI9GBjmR4RAQ"
      }
    },
    {
      "cell_type": "code",
      "source": [
        "def squares(start, end):\n",
        "\treturn [square ** 2 for square in range(start, end+1)]\n",
        "\n",
        "print(squares(2, 3)) # Should be [4, 9]\n",
        "print(squares(1, 5)) # Should be [1, 4, 9, 16, 25]\n",
        "print(squares(0, 10)) # Should be [0, 1, 4, 9, 16, 25, 36, 49, 64, 81, 100]"
      ],
      "metadata": {
        "colab": {
          "base_uri": "https://localhost:8080/"
        },
        "id": "HxK-KWe04SI_",
        "outputId": "9d1ab0b2-c9dc-4c7d-9e6a-57cbe6041d25"
      },
      "execution_count": 17,
      "outputs": [
        {
          "output_type": "stream",
          "name": "stdout",
          "text": [
            "[4, 9]\n",
            "[1, 4, 9, 16, 25]\n",
            "[0, 1, 4, 9, 16, 25, 36, 49, 64, 81, 100]\n"
          ]
        }
      ]
    },
    {
      "cell_type": "markdown",
      "source": [
        "5.\n",
        "Complete the code to iterate through the keys and values of the car_prices dictionary, printing out some information about each one."
      ],
      "metadata": {
        "id": "9ZPX4kZC4TA4"
      }
    },
    {
      "cell_type": "code",
      "source": [
        "def car_listing(car_prices):\n",
        "  result = \"\"\n",
        "  for car, prices in car_prices.items():\n",
        "    result += \"{} costs {} dollars\".format(car, prices) + \"\\n\"\n",
        "  return result\n",
        "\n",
        "print(car_listing({\"Kia Soul\":19000, \"Lamborghini Diablo\":55000, \"Ford Fiesta\":13000, \"Toyota Prius\":24000}))"
      ],
      "metadata": {
        "colab": {
          "base_uri": "https://localhost:8080/"
        },
        "id": "PRhfg-H14T8-",
        "outputId": "c9b5bd54-d7ee-439c-dfb5-52363ced95ec"
      },
      "execution_count": 18,
      "outputs": [
        {
          "output_type": "stream",
          "name": "stdout",
          "text": [
            "Kia Soul costs 19000 dollars\n",
            "Lamborghini Diablo costs 55000 dollars\n",
            "Ford Fiesta costs 13000 dollars\n",
            "Toyota Prius costs 24000 dollars\n",
            "\n"
          ]
        }
      ]
    },
    {
      "cell_type": "markdown",
      "source": [
        "6.\n",
        "Taylor and Rory are hosting a party. They sent out invitations, and each one collected responses into dictionaries, with names of their friends and how many guests each friend is bringing. Each dictionary is a partial list, but Rory's list has more current information about the number of guests. Fill in the blanks to combine both dictionaries into one, with each friend listed only once, and the number of guests from Rory's dictionary taking precedence, if a name is included in both dictionaries. Then print the resulting dictionary."
      ],
      "metadata": {
        "id": "or51w9KC4UtK"
      }
    },
    {
      "cell_type": "code",
      "source": [
        "def combine_guests(guests1, guests2):\n",
        "  # Combine both dictionaries into one, with each key listed \n",
        "  # only once, and the value from guests1 taking precedence\n",
        "  guest = {}\n",
        "  guest = guests2.copy()\n",
        "  guest.update(guests1)\n",
        "  return guest\n",
        "\n",
        "Rorys_guests = { \"Adam\":2, \"Brenda\":3, \"David\":1, \"Jose\":3, \"Charlotte\":2, \"Terry\":1, \"Robert\":4}\n",
        "Taylors_guests = { \"David\":4, \"Nancy\":1, \"Robert\":2, \"Adam\":1, \"Samantha\":3, \"Chris\":5}\n",
        "\n",
        "print(combine_guests(Rorys_guests, Taylors_guests))\n"
      ],
      "metadata": {
        "colab": {
          "base_uri": "https://localhost:8080/"
        },
        "id": "0p5ZemNP4Xz2",
        "outputId": "40174d49-d688-44d2-b38a-03aa7f5dadd4"
      },
      "execution_count": 19,
      "outputs": [
        {
          "output_type": "stream",
          "name": "stdout",
          "text": [
            "{'David': 1, 'Nancy': 1, 'Robert': 4, 'Adam': 2, 'Samantha': 3, 'Chris': 5, 'Brenda': 3, 'Jose': 3, 'Charlotte': 2, 'Terry': 1}\n"
          ]
        }
      ]
    },
    {
      "cell_type": "markdown",
      "source": [
        "7.\n",
        "Use a dictionary to count the frequency of letters in the input string. Only letters should be counted, not blank spaces, numbers, or punctuation. Upper case should be considered the same as lower case. For example, count_letters(\"This is a sentence.\") should return {'t': 2, 'h': 1, 'i': 2, 's': 3, 'a': 1, 'e': 3, 'n': 2, 'c': 1}."
      ],
      "metadata": {
        "id": "HhOHRD484ZAP"
      }
    },
    {
      "cell_type": "code",
      "source": [
        "def count_letters(text):\n",
        "  result = {}\n",
        "  # Go through each letter in the text\n",
        "  for word in text.lower():\n",
        "    # Check if the letter needs to be counted or not\n",
        "    if word.isalpha():\n",
        "      if word not in result:\n",
        "        result[word] = 1\n",
        "    # Add or increment the value in the dictionary\n",
        "      else:\n",
        "       result[word] += 1\n",
        "  return result\n",
        "\n",
        "print(count_letters(\"AaBbCc\"))\n",
        "# Should be {'a': 2, 'b': 2, 'c': 2}\n",
        "\n",
        "print(count_letters(\"Math is fun! 2+2=4\"))\n",
        "# Should be {'m': 1, 'a': 1, 't': 1, 'h': 1, 'i': 1, 's': 1, 'f': 1, 'u': 1, 'n': 1}\n",
        "\n",
        "print(count_letters(\"This is a sentence.\"))\n",
        "# Should be {'t': 2, 'h': 1, 'i': 2, 's': 3, 'a': 1, 'e': 3, 'n': 2, 'c': 1}"
      ],
      "metadata": {
        "colab": {
          "base_uri": "https://localhost:8080/"
        },
        "id": "XvXbaRGT4ace",
        "outputId": "6fd86d60-85ba-47e8-af2d-314177e3760a"
      },
      "execution_count": 20,
      "outputs": [
        {
          "output_type": "stream",
          "name": "stdout",
          "text": [
            "{'a': 2, 'b': 2, 'c': 2}\n",
            "{'m': 1, 'a': 1, 't': 1, 'h': 1, 'i': 1, 's': 1, 'f': 1, 'u': 1, 'n': 1}\n",
            "{'t': 2, 'h': 1, 'i': 2, 's': 3, 'a': 1, 'e': 3, 'n': 2, 'c': 1}\n"
          ]
        }
      ]
    }
  ]
}